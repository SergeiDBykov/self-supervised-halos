{
 "cells": [
  {
   "cell_type": "code",
   "execution_count": 1,
   "metadata": {},
   "outputs": [],
   "source": [
    "import requests\n",
    "import numpy as np\n",
    "import h5py\n",
    "import matplotlib.pyplot as plt\n",
    "\n",
    "import MAS_library as pylians_MASL\n",
    "import smoothing_library as pylians_SL\n",
    "\n",
    "\n",
    "\n",
    "%matplotlib inline\n",
    "\n",
    "baseUrl = 'http://www.tng-project.org/api/'\n",
    "headers = {\"api-key\":\"9af02c30810f12be44f17ad2bd4b6510\"}\n",
    "\n",
    "sim_name = 'TNG100-1-Dark'\n",
    "redshift = 0.0\n",
    "base_query = f'/api/{sim_name}/snapshots/z={redshift}/'\n",
    "\n",
    "def get(path, params=None):\n",
    "    # make HTTP GET request to path\n",
    "    r = requests.get(path, params=params, headers=headers)\n",
    "\n",
    "    # raise exception if response code is not HTTP SUCCESS (200)\n",
    "    r.raise_for_status()\n",
    "\n",
    "    if r.headers['content-type'] == 'application/json':\n",
    "        return r.json() # parse json responses automatically\n",
    "\n",
    "    if 'content-disposition' in r.headers:\n",
    "        filename = r.headers['content-disposition'].split(\"filename=\")[1]\n",
    "        with open(filename, 'wb') as f:\n",
    "            f.write(r.content)\n",
    "        return filename # return the filename string\n",
    "\n",
    "    return r\n",
    "\n"
   ]
  },
  {
   "cell_type": "markdown",
   "metadata": {
    "notebookRunGroups": {
     "groupValue": "2"
    }
   },
   "source": [
    "# Counting haloes for a list of conditions"
   ]
  },
  {
   "cell_type": "code",
   "execution_count": 2,
   "metadata": {},
   "outputs": [
    {
     "name": "stdout",
     "output_type": "stream",
     "text": [
      "16544 halos with search criteria \n",
      " \t ?mass__gt=7.039999999999999&mass__lt=70400.0&primary_flag__gt=0.9&len__gr=150\n"
     ]
    }
   ],
   "source": [
    "# first convert log solar masses into group catalog units\n",
    "mass_min = 10**11 / 1e10 * 0.704\n",
    "mass_max = 10**15 / 1e10 * 0.704\n",
    "\n",
    "# form the search_query string by hand for once\n",
    "search_query = \"?mass__gt=\" + str(mass_min) + \"&mass__lt=\" + str(mass_max) +'&primary_flag__gt=0.9'+'&len__gr=150'\n",
    "\n",
    "url = 'http://www.tng-project.org/api/TNG100-1-Dark/snapshots/z=0.0/'+\"subhalos/\" + search_query\n",
    "subhalos = get(url, {'limit':20000})\n",
    "print(f\"{subhalos['count']} halos with search criteria \\n \\t {search_query}\")\n",
    "\n",
    "\n",
    "\n",
    "#get random 10 halos\n",
    "np.random.seed(0)\n",
    "\n",
    "random_idx = np.random.choice(subhalos['count'], 3, replace=False)\n",
    "\n",
    "subhalos = [subhalos['results'][i] for i in random_idx]\n",
    "\n",
    "subhalos = {sh['id']:sh['url'] for sh in subhalos}\n"
   ]
  },
  {
   "cell_type": "code",
   "execution_count": 3,
   "metadata": {},
   "outputs": [],
   "source": [
    "import astropy.cosmology\n",
    "from astropy import units as u\n",
    "from astropy import constants as const\n",
    "\n",
    "sim = get('http://www.tng-project.org/api/TNG100-1-Dark')\n",
    "snapshot = get('http://www.tng-project.org/api/TNG100-1-Dark/snapshots/z=0.0/')\n",
    "\n",
    "\n",
    "z = snapshot['redshift']\n",
    "Omega_0 = sim['omega_0']\n",
    "omega_B = sim['omega_B']\n",
    "h = sim['hubble']\n",
    "\n",
    "dm_mass = sim['mass_dm']\n",
    "\n",
    "\n",
    "cosmo = astropy.cosmology.FlatLambdaCDM(H0=h*100, Om0=Omega_0, Ob0=omega_B) #also astropy.cosmology.Planck15 but its a bit different\n",
    "#mean_density = cosmo.critical_density(z).to('Msun/Mpc^3').value\n",
    "mean_density = cosmo.critical_density(z)"
   ]
  },
  {
   "cell_type": "code",
   "execution_count": 4,
   "metadata": {},
   "outputs": [],
   "source": [
    "import MAS_library as pylians_MASL\n",
    "import smoothing_library as pylians_SL"
   ]
  },
  {
   "cell_type": "markdown",
   "metadata": {},
   "source": [
    "---"
   ]
  },
  {
   "cell_type": "code",
   "execution_count": 18,
   "metadata": {},
   "outputs": [
    {
     "data": {
      "text/plain": [
       "<matplotlib.image.AxesImage at 0x7fb0774b7760>"
      ]
     },
     "execution_count": 18,
     "metadata": {},
     "output_type": "execute_result"
    },
    {
     "data": {
      "image/png": "[encoded data removed]",
      "text/plain": [
       "<Figure size 640x480 with 1 Axes>"
      ]
     },
     "metadata": {},
     "output_type": "display_data"
    }
   ],
   "source": [
    "cutout = 'cutout_818916.hdf5'\n",
    "f =  h5py.File(cutout,'r')\n",
    "\n",
    "x = f['PartType1']['Coordinates'][:,0]\n",
    "y = f['PartType1']['Coordinates'][:,1]\n",
    "z = f['PartType1']['Coordinates'][:,2]\n",
    "\n",
    "center = np.array([np.mean(x), np.mean(y), np.mean(z)])\n",
    "\n",
    "x = x - center[0]\n",
    "y = y - center[1]\n",
    "z = z - center[2]\n",
    "\n",
    "max_size = np.max([np.max(x) - np.min(x), np.max(y) - np.min(y), np.max(z) - np.min(z)])\n",
    "max_size = max_size\n",
    "\n",
    "grid_size = 128\n",
    "\n",
    "pos = np.array([x, y, z]).T\n",
    "\n",
    "hist, bins = np.histogramdd(pos, bins=grid_size, range=[[-max_size/2, max_size/2], [-max_size/2, max_size/2], [-max_size/2, max_size/2]])\n",
    "\n",
    "\n",
    "plt.imshow(hist.sum(axis=2), origin='lower', cmap='Blues')"
   ]
  },
  {
   "cell_type": "code",
   "execution_count": 19,
   "metadata": {},
   "outputs": [
    {
     "name": "stdout",
     "output_type": "stream",
     "text": [
      "344.0 344\n"
     ]
    }
   ],
   "source": [
    "#i_test = grid_size//2 +1\n",
    "#j_test = grid_size//2  \n",
    "#z_test = grid_size//2-2\n",
    "\n",
    "\n",
    "argmax = np.unravel_index(hist.argmax(), hist.shape)\n",
    "i_test = argmax[0]\n",
    "j_test = argmax[1]\n",
    "z_test = argmax[2]\n",
    "\n",
    "#i_test = 63 #np.unravel_index(hist.argmax(), hist.shape)\n",
    "#j_test = 63\n",
    "#z_test = 68 \n",
    "\n",
    "test_xmin, test_xmax = bins[0][i_test],bins[0][i_test+1]\n",
    "test_ymin, test_ymax = bins[1][j_test],bins[1][j_test+1]\n",
    "test_zmin, test_zmax = bins[2][z_test],bins[2][z_test+1]\n",
    "\n",
    "test_hist = hist[i_test, j_test, z_test]\n",
    "\n",
    "test_count = np.sum( (x > test_xmin) & (x < test_xmax) & (y > test_ymin) & (y < test_ymax) & (z > test_zmin) & (z < test_zmax) )\n",
    "\n",
    "print(test_hist, test_count)"
   ]
  },
  {
   "cell_type": "code",
   "execution_count": 35,
   "metadata": {},
   "outputs": [
    {
     "name": "stdout",
     "output_type": "stream",
     "text": [
      "\n",
      "Using CIC mass assignment scheme\n",
      "Time taken = 0.003 seconds\n",
      "\n",
      "200.68294 37524.01 37478.0 37524\n"
     ]
    },
    {
     "data": {
      "text/plain": [
       "<matplotlib.image.AxesImage at 0x7fb078414cd0>"
      ]
     },
     "execution_count": 35,
     "metadata": {},
     "output_type": "execute_result"
    },
    {
     "data": {
      "image/png": "[encoded data removed]",
      "text/plain": [
       "<Figure size 640x480 with 1 Axes>"
      ]
     },
     "metadata": {},
     "output_type": "display_data"
    }
   ],
   "source": [
    "#pos_f32 = pos.astype(np.float32)\n",
    "\n",
    "pos_f32 = pos + center\n",
    "pos_f32 = pos_f32.astype(np.float32)\n",
    "\n",
    "counts = np.zeros((grid_size,grid_size,grid_size), dtype=np.float32)\n",
    "\n",
    "pylians_MASL.MA(pos_f32, counts, max_size, \"CIC\", verbose=True)\n",
    "\n",
    "\n",
    "print(np.max(counts), np.sum(counts), np.sum(hist), len(x))\n",
    "\n",
    "plt.imshow(counts.sum(axis=2), origin='lower', cmap='Blues')\n",
    "\n"
   ]
  },
  {
   "cell_type": "code",
   "execution_count": null,
   "metadata": {},
   "outputs": [],
   "source": []
  },
  {
   "cell_type": "code",
   "execution_count": null,
   "metadata": {},
   "outputs": [],
   "source": []
  },
  {
   "cell_type": "code",
   "execution_count": null,
   "metadata": {},
   "outputs": [],
   "source": [
    "cutout = 'cutout_818916.hdf5'\n",
    "#with h5py.File(cutout,'r') as f:\n",
    "f =  h5py.File(cutout,'r')\n",
    "\n",
    "x = f['PartType1']['Coordinates'][:,0]\n",
    "y = f['PartType1']['Coordinates'][:,1]\n",
    "z = f['PartType1']['Coordinates'][:,2]\n",
    "\n",
    "grid_size = 128\n",
    "\n",
    "pos = np.array([x,y,z]).T\n",
    "pos = pos.astype(np.float32)\n",
    "\n",
    "density = np.zeros((grid_size,grid_size,grid_size), dtype=np.float32)\n",
    "\n",
    "boxsize = f['Header'].attrs['BoxSize']/1e3\n",
    "\n",
    "pylians_MASL.MA(pos, density, boxsize, \"CIC\", verbose=True)\n",
    "\n",
    "\n",
    "print(np.sum(density)/len(x))\n",
    "plt.imshow(density.sum(axis=0), cmap='Blues')"
   ]
  },
  {
   "cell_type": "code",
   "execution_count": null,
   "metadata": {},
   "outputs": [],
   "source": [
    "hist = np.histogramdd(pos, bins=grid_size, range=[[0,boxsize],[0,boxsize],[0,boxsize]])"
   ]
  },
  {
   "cell_type": "code",
   "execution_count": null,
   "metadata": {},
   "outputs": [],
   "source": [
    "hist[0].shape"
   ]
  },
  {
   "cell_type": "code",
   "execution_count": null,
   "metadata": {},
   "outputs": [],
   "source": [
    "hist[0].sum()"
   ]
  },
  {
   "cell_type": "code",
   "execution_count": null,
   "metadata": {},
   "outputs": [],
   "source": [
    "plt.imshow(hist[0].sum(axis=0), cmap='Blues')"
   ]
  },
  {
   "cell_type": "code",
   "execution_count": null,
   "metadata": {},
   "outputs": [],
   "source": [
    "np.mean(x), np.mean(y), np.mean(z)"
   ]
  },
  {
   "cell_type": "code",
   "execution_count": null,
   "metadata": {},
   "outputs": [],
   "source": [
    "np.max(density.sum(axis=0))"
   ]
  },
  {
   "cell_type": "code",
   "execution_count": null,
   "metadata": {},
   "outputs": [],
   "source": []
  },
  {
   "cell_type": "code",
   "execution_count": null,
   "metadata": {},
   "outputs": [],
   "source": [
    "np.mean(density)"
   ]
  },
  {
   "cell_type": "code",
   "execution_count": null,
   "metadata": {},
   "outputs": [],
   "source": [
    "np.sum(density)"
   ]
  },
  {
   "cell_type": "code",
   "execution_count": null,
   "metadata": {},
   "outputs": [],
   "source": [
    "#def get_dm(id):\n",
    "cutout = 'cutout_818916.hdf5'\n",
    "with h5py.File(cutout,'r') as f:\n",
    "\n",
    "    # slice_2d = None\n",
    "    # assert slice_2d is None or slice_2d=='xy' or slice_2d=='xz' or slice_2d=='yz', \"slice_2d must be None, 'xy', 'xz' or 'yz'\"\n",
    "\n",
    "    # #pylians3 https://pylians3.readthedocs.io/en/master/construction.html\n",
    "\n",
    "    # id = 818916\n",
    "    # url = subhalos[id]\n",
    "    # sub_prog = get(url)\n",
    "\n",
    "    # cutout_request = {'dm':'Coordinates,SubfindDMDensity'}\n",
    "    # cutout = get(url+\"cutout.hdf5\", cutout_request)\n",
    "\n",
    "\n",
    "    #file attributes: https://www.tng-project.org/data/docs/specifications/\n",
    "\n",
    "    #center coord\n",
    "    #center = np.array([sub_prog['pos_x'], sub_prog['pos_y'], sub_prog['pos_z']])\n",
    "\n",
    "\n",
    "    x = f['PartType1']['Coordinates'][:,0]\n",
    "    y = f['PartType1']['Coordinates'][:,1]\n",
    "    z = f['PartType1']['Coordinates'][:,2]\n",
    "\n",
    "    #displacement vector \n",
    "    disp = np.array([np.min(x), np.min(y), np.min(z)]).astype(np.float32)\n",
    "\n",
    "\n",
    "    \n",
    "    #dm_mass = f['Header'].attrs['MassTable'][1] * 1e10 #Msun/h\n",
    "\n",
    "    Np = len(x)\n",
    "\n",
    "    grid = 128\n",
    "    BoxSize = f['Header'].attrs['BoxSize'] #kpc/h\n",
    "    #BoxSize = 128\n",
    "    #BoxSize = 1\n",
    "    MAS = 'CIC'\n",
    "    verbose = True\n",
    "\n",
    "    pos = np.array([x,y,z]).T\n",
    "    pos = pos - disp\n",
    "\n",
    "    #pos normalized to 1\n",
    "    pos[:,0] = pos[:,0]/np.max(pos[:,0])\n",
    "    pos[:,1] = pos[:,1]/np.max(pos[:,1])\n",
    "    pos[:,2] = pos[:,2]/np.max(pos[:,2])\n",
    "\n",
    "    pos = pos*BoxSize\n",
    "\n",
    "    delta = np.zeros((grid,grid,grid), dtype=np.float32)\n",
    "\n",
    "    pos = pos.astype(np.float32)\n",
    "    delta = delta.astype(np.float32)\n",
    "\n",
    "    #add center vector to pos Np*1 times (concatenate)\n",
    "    #pos = np.concatenate((pos, np.tile(center, (Np,1))), axis=1)\n",
    "\n",
    "\n",
    "    pylians_MASL.MA(pos, delta, BoxSize, MAS, verbose=verbose)\n",
    "\n",
    "    #delta = delta/np.mean(delta, dtype=np.float64) - 1.0\n",
    "\n",
    "\n",
    "    R = 10 #kpc/h\n",
    "    Filter = 'Gaussian'\n",
    "    threads = 28\n",
    "\n",
    "    W_k = pylians_SL.FT_filter(BoxSize, R, grid, Filter, threads)\n",
    "\n",
    "    delta_smoothed = pylians_SL.field_smoothing(delta, W_k, threads)\n",
    "\n",
    "    "
   ]
  },
  {
   "cell_type": "code",
   "execution_count": null,
   "metadata": {},
   "outputs": [],
   "source": [
    "grid"
   ]
  },
  {
   "cell_type": "code",
   "execution_count": null,
   "metadata": {},
   "outputs": [],
   "source": [
    "np.argmax(delta)"
   ]
  },
  {
   "cell_type": "code",
   "execution_count": null,
   "metadata": {},
   "outputs": [],
   "source": []
  },
  {
   "cell_type": "code",
   "execution_count": null,
   "metadata": {},
   "outputs": [],
   "source": [
    "delta.shape"
   ]
  },
  {
   "cell_type": "code",
   "execution_count": null,
   "metadata": {},
   "outputs": [],
   "source": []
  },
  {
   "cell_type": "code",
   "execution_count": null,
   "metadata": {},
   "outputs": [],
   "source": [
    "# from mayavi import mlab\n",
    "\n",
    "# # Plot scatter with mayavi\n",
    "# figure = mlab.figure('DensityPlot')\n",
    "\n",
    "# grid_arr = np.arange(grid)\n",
    "# grid = mlab.pipeline.scalar_field(delta)\n",
    "# min = delta.min()\n",
    "# max=delta.max()\n",
    "# mlab.pipeline.volume(grid, vmin=min, vmax=min + .5*(max-min))\n",
    "\n",
    "# mlab.axes()\n",
    "# mlab.show()"
   ]
  },
  {
   "cell_type": "code",
   "execution_count": null,
   "metadata": {},
   "outputs": [],
   "source": [
    "plt.plot(pos[:,0], pos[:,1], 'o', markersize=1)"
   ]
  },
  {
   "cell_type": "code",
   "execution_count": null,
   "metadata": {},
   "outputs": [],
   "source": [
    "plt.imshow(delta.sum(axis = 1))\n",
    "plt.colorbar()\n",
    "plt.figure()\n",
    "plt.imshow(np.log10(delta.sum(axis = 1)), cmap='inferno')\n",
    "plt.colorbar()"
   ]
  },
  {
   "cell_type": "code",
   "execution_count": null,
   "metadata": {},
   "outputs": [],
   "source": [
    "plt.imshow(delta_smoothed.sum(axis = 1))\n",
    "plt.colorbar()\n",
    "plt.figure()\n",
    "plt.imshow(np.log10(delta_smoothed.sum(axis = 1)), cmap='inferno')\n",
    "plt.colorbar()"
   ]
  },
  {
   "cell_type": "code",
   "execution_count": null,
   "metadata": {},
   "outputs": [],
   "source": [
    "plt.imshow(delta.sum(axis = 2))\n",
    "plt.colorbar()"
   ]
  },
  {
   "cell_type": "code",
   "execution_count": null,
   "metadata": {},
   "outputs": [],
   "source": [
    "import numpy as np\n",
    "import MAS_library as MASL\n",
    "%matplotlib inline\n",
    "# number of particles\n",
    "Np = 256**2\n",
    "\n",
    "# density field parameters\n",
    "grid    = 256    #the 2D field will have grid x grid pixels\n",
    "BoxSize = 1000.0 #Mpc/h ; size of box\n",
    "MAS     = 'TSC'  #mass-assigment scheme\n",
    "verbose = True   #print information on progress\n",
    "\n",
    "# particle positions in 2D\n",
    "pos = np.random.random((Np,2)).astype(np.float32)*BoxSize\n",
    "#pos = np.random.normal(0, 1, (Np,2)).astype(np.float32)*BoxSize\n",
    "\n",
    "# define 2D density field\n",
    "delta = np.zeros((grid,grid), dtype=np.float32)\n",
    "\n",
    "# construct 2D density field\n",
    "MASL.MA(pos, delta, BoxSize, MAS, verbose=verbose)\n",
    "\n",
    "# at this point, delta contains the effective number of particles in each pixel\n",
    "# now compute overdensity and density constrast\n",
    "#delta /= np.mean(delta, dtype=np.float64);  delta -= 1.0\n",
    "\n",
    "\n",
    "plt.imshow(delta)"
   ]
  },
  {
   "cell_type": "code",
   "execution_count": null,
   "metadata": {},
   "outputs": [],
   "source": [
    "plt.plot(pos[:, 0], pos[:, 1], 'k.', markersize=1)"
   ]
  }
 ],
 "metadata": {
  "kernelspec": {
   "display_name": "venv_hea",
   "language": "python",
   "name": "python3"
  },
  "language_info": {
   "codemirror_mode": {
    "name": "ipython",
    "version": 3
   },
   "file_extension": ".py",
   "mimetype": "text/x-python",
   "name": "python",
   "nbconvert_exporter": "python",
   "pygments_lexer": "ipython3",
   "version": "3.8.19"
  }
 },
 "nbformat": 4,
 "nbformat_minor": 2
}
