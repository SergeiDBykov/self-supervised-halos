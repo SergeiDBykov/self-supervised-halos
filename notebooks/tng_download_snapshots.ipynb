{
 "cells": [
  {
   "cell_type": "code",
   "execution_count": 23,
   "metadata": {},
   "outputs": [],
   "source": [
    "import sys\n",
    "sys.path.append('/Users/sdbykov/work/self-supervised-halos/')"
   ]
  },
  {
   "cell_type": "code",
   "execution_count": 24,
   "metadata": {},
   "outputs": [],
   "source": [
    "import requests\n",
    "import numpy as np\n",
    "import h5py\n",
    "import time\n",
    "from tqdm import tqdm\n",
    "import os\n",
    "from glob import glob\n",
    "import pandas as pd\n",
    "\n",
    "%matplotlib inline\n",
    "\n",
    "from utils.data.tng_query import get, HaloInfo\n",
    "from utils.utils import data_path\n",
    "data_path = data_path+'tng/'"
   ]
  },
  {
   "cell_type": "code",
   "execution_count": 25,
   "metadata": {},
   "outputs": [
    {
     "name": "stdout",
     "output_type": "stream",
     "text": [
      "16544 halos with search criteria \n",
      " \t ?mass__gt=7.039999999999999&mass__lt=70400.0&primary_flag__gt=0.9&len__gr=150\n"
     ]
    }
   ],
   "source": [
    "# first convert log solar masses into group catalog units\n",
    "mass_min = 10**11 / 1e10 * 0.704\n",
    "mass_max = 10**15 / 1e10 * 0.704\n",
    "\n",
    "# form the search_query string by hand for once\n",
    "search_query = \"?mass__gt=\" + str(mass_min) + \"&mass__lt=\" + str(mass_max) +'&primary_flag__gt=0.9'+'&len__gr=150'\n",
    "\n",
    "url = 'http://www.tng-project.org/api/TNG100-1-Dark/snapshots/z=0.0/subhalos/' + search_query\n",
    "subhalos_all = get(url, {'limit':20000})\n",
    "\n",
    "count = subhalos_all['count']\n",
    "print(f\"{count} halos with search criteria \\n \\t {search_query}\")"
   ]
  },
  {
   "cell_type": "code",
   "execution_count": 27,
   "metadata": {},
   "outputs": [],
   "source": [
    "\n",
    "idxs = np.arange(count)\n",
    "\n",
    "subhalos = [subhalos_all['results'][i] for i in idxs]\n",
    "subhalos = {sh['id']:sh['url'] for sh in subhalos}\n"
   ]
  },
  {
   "cell_type": "code",
   "execution_count": 28,
   "metadata": {},
   "outputs": [
    {
     "name": "stderr",
     "output_type": "stream",
     "text": [
      "  5%|▌         | 840/16544 [1:48:22<10:48:35,  2.48s/it] "
     ]
    }
   ],
   "source": [
    "for id, url in tqdm(subhalos.items()):\n",
    "    halo_info = HaloInfo(id)\n",
    "    halo_info.download_halo_snapshot(retry=False, verbose=False)\n",
    "    time.sleep(0.01)"
   ]
  }
 ],
 "metadata": {
  "kernelspec": {
   "display_name": "venv_hea",
   "language": "python",
   "name": "python3"
  },
  "language_info": {
   "codemirror_mode": {
    "name": "ipython",
    "version": 3
   },
   "file_extension": ".py",
   "mimetype": "text/x-python",
   "name": "python",
   "nbconvert_exporter": "python",
   "pygments_lexer": "ipython3",
   "version": "3.8.19"
  }
 },
 "nbformat": 4,
 "nbformat_minor": 2
}
