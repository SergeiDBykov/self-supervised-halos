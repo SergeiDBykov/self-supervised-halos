{
 "cells": [
  {
   "cell_type": "code",
   "execution_count": null,
   "metadata": {},
   "outputs": [],
   "source": [
    "from self_supervised_halos.utils.utils import data_preprocess_path, check_cuda\n",
    "from scripts.contrastive_learning_2d import ConstrativeLearningModel, SupConLoss\n",
    "\n",
    "from self_supervised_halos.utils.dataloader import HaloDataset, img2d_transform, subhalos_df, DataLoader\n",
    "\n",
    "import pandas as pd\n",
    "import numpy as np\n",
    "import matplotlib.pyplot as plt\n",
    "\n",
    "import torch\n",
    "import torch.nn as nn\n",
    "import torch.optim as optim\n",
    "\n",
    "device = check_cuda()"
   ]
  },
  {
   "cell_type": "code",
   "execution_count": null,
   "metadata": {},
   "outputs": [],
   "source": [
    "dataset = HaloDataset(root_dir=data_preprocess_path,subhalos_df=subhalos_df, \n",
    "                      load_2d=False, load_3d=False, load_mass=True,)"
   ]
  }
 ],
 "metadata": {
  "language_info": {
   "name": "python"
  }
 },
 "nbformat": 4,
 "nbformat_minor": 2
}
