{
 "cells": [
  {
   "cell_type": "code",
   "execution_count": 1,
   "metadata": {},
   "outputs": [],
   "source": [
    "import os\n",
    "try:\n",
    "    from google.colab import drive\n",
    "    drive.mount('/content/drive/', force_remount=False)\n",
    "    rootpath = '/content/drive/My Drive/ai-side-projects/contrastive_learning_mnist/'\n",
    "except:\n",
    "    rootpath = './'\n",
    "os.chdir(rootpath)"
   ]
  },
  {
   "cell_type": "code",
   "execution_count": 2,
   "metadata": {},
   "outputs": [
    {
     "name": "stdout",
     "output_type": "stream",
     "text": [
      "cpu\n"
     ]
    }
   ],
   "source": [
    "from matplotlib import pyplot as plt\n",
    "import pandas as pd\n",
    "import numpy as np\n",
    "\n",
    "import torch\n",
    "import torch.nn as nn\n",
    "\n",
    "from src import get_mnist_dataloaders, classic_train, original_transform, torchvision\n",
    "\n",
    "LOAD_MODELS = True\n",
    "\n",
    "\n",
    "%matplotlib inline\n",
    "\n",
    "device = 'cuda' if torch.cuda.is_available() else 'cpu'\n",
    "print(device)\n",
    "if device=='cuda':\n",
    "    print(torch.cuda.get_device_properties(0).name)\n"
   ]
  },
  {
   "cell_type": "code",
   "execution_count": 3,
   "metadata": {},
   "outputs": [
    {
     "name": "stdout",
     "output_type": "stream",
     "text": [
      "Train size: 42000\n",
      "Validation size: 12000\n",
      "Test size: 6000\n"
     ]
    }
   ],
   "source": [
    "batch_size = 64\n",
    "\n",
    "trainloader, testloader, _ = get_mnist_dataloaders(batch_size=batch_size, dataset_size=1.0)\n",
    "\n",
    "\n",
    "# trainset = torchvision.datasets.MNIST(root='./data', train=True,\n",
    "#                                         download=True, transform=original_transform)\n",
    "# trainloader = torch.utils.data.DataLoader(trainset, batch_size=batch_size,\n",
    "#                                           shuffle=True)\n",
    "\n",
    "# testset = torchvision.datasets.MNIST(root='./data', train=False,\n",
    "#                                        download=True, transform=original_transform)\n",
    "# testloader = torch.utils.data.DataLoader(testset, batch_size=batch_size,\n",
    "#                                          shuffle=False)\n",
    "\n"
   ]
  },
  {
   "cell_type": "code",
   "execution_count": 4,
   "metadata": {},
   "outputs": [
    {
     "name": "stdout",
     "output_type": "stream",
     "text": [
      "\n",
      "        RESULT\n",
      "    input shape: torch.Size([1, 1, 28, 28])\n",
      "    output shape: torch.Size([1, 10])\n",
      "        \n"
     ]
    }
   ],
   "source": [
    "class ClassifierCNN(nn.Module):\n",
    "    def __init__(self):\n",
    "        super(ClassifierCNN, self).__init__()\n",
    "        self.conv1 = nn.Conv2d(1, 8, 2, 2) #28x28 -> 14x14\n",
    "        self.conv2 = nn.Conv2d(8, 16, 3, 3) #14x14 -> 4x4\n",
    "\n",
    "        self.fc1 = nn.Linear(16*4*4, 64)\n",
    "        self.fc2 = nn.Linear(64, 32)\n",
    "        self.fc3 = nn.Linear(32, 10)\n",
    "\n",
    "    def forward(self, x):\n",
    "        x = torch.relu(self.conv1(x))\n",
    "        x = torch.relu(self.conv2(x))\n",
    "\n",
    "        x = nn.Flatten()(x)\n",
    "\n",
    "        x = torch.relu(self.fc1(x))\n",
    "        x = torch.relu(self.fc2(x))\n",
    "        x = self.fc3(x)\n",
    "        return x\n",
    "\n",
    "model = ClassifierCNN()\n",
    "\n",
    "def test_shapes():\n",
    "    model = ClassifierCNN()\n",
    "\n",
    "    x = torch.randn(1, 1, 28, 28)\n",
    "    y = model(x)\n",
    "\n",
    "\n",
    "    print(f\"\"\"\n",
    "        RESULT\n",
    "    input shape: {x.shape}\n",
    "    output shape: {y.shape}\n",
    "        \"\"\")\n",
    "    \n",
    "test_shapes()"
   ]
  },
  {
   "cell_type": "code",
   "execution_count": 5,
   "metadata": {},
   "outputs": [],
   "source": [
    "# tmp_model = ClassifierCNN()\n",
    "\n",
    "# tmp_b = next(iter(dataloader_train))\n",
    "# image_example = tmp_b[0][0].unsqueeze(0)\n",
    "# label_example = tmp_b[1][0].unsqueeze(0)\n",
    "# tmp_y = tmp_model(image_example)\n",
    "\n",
    "# #print(nn.CrossEntropyLoss()(tmp_y, label_example).item())\n",
    "# #print(nn.NLLLoss()(nn.LogSoftmax()(tmp_y), label_example).item())"
   ]
  },
  {
   "cell_type": "code",
   "execution_count": 6,
   "metadata": {},
   "outputs": [
    {
     "name": "stdout",
     "output_type": "stream",
     "text": [
      "Could not load model\n"
     ]
    }
   ],
   "source": [
    "\n",
    "lr = 1e-3\n",
    "\n",
    "model = ClassifierCNN().to(device)\n",
    "\n",
    "if LOAD_MODELS:\n",
    "    try:\n",
    "        #vae.load_state_dict(torch.load('./models/vae'))\n",
    "        if device == 'cuda':\n",
    "            model.load_state_dict(torch.load('models/classifier'))\n",
    "        if device == 'cpu':\n",
    "            model.load_state_dict(torch.load('models/classifier', map_location=torch.device('cpu')))\n",
    "        history = pd.read_csv('models/classifier_history.csv')\n",
    "        #history to dict\n",
    "        history = history.to_dict(orient='list')\n",
    "        print('Model loaded')\n",
    "\n",
    "    except:\n",
    "        print('Could not load model')\n",
    "        history = None\n",
    "        pass\n",
    "\n",
    "\n",
    "\n",
    "criterion = nn.CrossEntropyLoss()\n",
    "#optimizer = torch.optim.Adam(model.parameters(), lr=lr)\n",
    "optimizer = torch.optim.SGD(model.parameters(), lr=0.001, momentum=0.9)\n",
    "#scheduler = torch.optim.lr_scheduler.StepLR(optimizer, step_size=10, gamma=0.5)\n",
    "\n"
   ]
  },
  {
   "cell_type": "code",
   "execution_count": 7,
   "metadata": {},
   "outputs": [
    {
     "name": "stdout",
     "output_type": "stream",
     "text": [
      "20066\n"
     ]
    }
   ],
   "source": [
    "#number of parameters\n",
    "print(sum(p.numel() for p in ClassifierCNN().parameters()))"
   ]
  },
  {
   "cell_type": "code",
   "execution_count": 10,
   "metadata": {},
   "outputs": [
    {
     "name": "stderr",
     "output_type": "stream",
     "text": [
      "Epochs: 100%|██████████| 4/4 [00:27<00:00,  6.97s/it, Loss=0.27647, Val Loss=0.26244]"
     ]
    },
    {
     "name": "stdout",
     "output_type": "stream",
     "text": [
      "Model and history saved\n"
     ]
    },
    {
     "name": "stderr",
     "output_type": "stream",
     "text": [
      "\n"
     ]
    }
   ],
   "source": [
    "n_epochs = 4\n",
    "\n",
    "history = classic_train(model, criterion, optimizer, scheduler=None,\n",
    "                           dataloader_train=trainloader, dataloader_val=testloader,\n",
    "                           history=history,\n",
    "                           epochs=n_epochs,\n",
    "                           device=device)\n"
   ]
  },
  {
   "cell_type": "code",
   "execution_count": 11,
   "metadata": {},
   "outputs": [
    {
     "data": {
      "text/plain": [
       "<matplotlib.legend.Legend at 0x7f83a9f71f00>"
      ]
     },
     "execution_count": 11,
     "metadata": {},
     "output_type": "execute_result"
    },
    {
     "data": {
      "image/png": "[encoded data removed]",
      "text/plain": [
       "<Figure size 1000x500 with 1 Axes>"
      ]
     },
     "metadata": {},
     "output_type": "display_data"
    }
   ],
   "source": [
    "plt.figure(figsize=(10, 5))\n",
    "plt.plot(history['train_loss'], label='train loss')\n",
    "plt.plot(history['val_loss'], label='val loss')\n",
    "plt.legend()"
   ]
  }
 ],
 "metadata": {
  "kernelspec": {
   "display_name": "venv_hea",
   "language": "python",
   "name": "python3"
  },
  "language_info": {
   "codemirror_mode": {
    "name": "ipython",
    "version": 3
   },
   "file_extension": ".py",
   "mimetype": "text/x-python",
   "name": "python",
   "nbconvert_exporter": "python",
   "pygments_lexer": "ipython3",
   "version": "3.10.11"
  }
 },
 "nbformat": 4,
 "nbformat_minor": 2
}
