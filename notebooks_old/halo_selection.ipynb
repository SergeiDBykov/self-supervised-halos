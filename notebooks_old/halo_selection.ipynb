{
 "cells": [
  {
   "cell_type": "code",
   "execution_count": 1,
   "metadata": {},
   "outputs": [],
   "source": [
    "import requests\n",
    "import numpy as np\n",
    "import h5py\n",
    "import matplotlib.pyplot as plt\n",
    "\n",
    "import MAS_library as pylians_MASL\n",
    "import smoothing_library as pylians_SL\n",
    "\n",
    "import astropy.cosmology\n",
    "from astropy import units as u\n",
    "from astropy import constants as const\n",
    "\n",
    "\n",
    "\n",
    "%matplotlib inline\n",
    "\n",
    "baseUrl = 'http://www.tng-project.org/api/'\n",
    "headers = {\"api-key\":\"9af02c30810f12be44f17ad2bd4b6510\"}\n",
    "\n",
    "sim_name = 'TNG100-1-Dark'\n",
    "redshift = 0.0\n",
    "base_query = f'/api/{sim_name}/snapshots/z={redshift}/'\n",
    "\n",
    "def get(path, params=None):\n",
    "    # make HTTP GET request to path\n",
    "    r = requests.get(path, params=params, headers=headers)\n",
    "\n",
    "    # raise exception if response code is not HTTP SUCCESS (200)\n",
    "    r.raise_for_status()\n",
    "\n",
    "    if r.headers['content-type'] == 'application/json':\n",
    "        return r.json() # parse json responses automatically\n",
    "\n",
    "    if 'content-disposition' in r.headers:\n",
    "        filename = r.headers['content-disposition'].split(\"filename=\")[1]\n",
    "        with open(filename, 'wb') as f:\n",
    "            f.write(r.content)\n",
    "        return filename # return the filename string\n",
    "\n",
    "    return r\n",
    "\n"
   ]
  },
  {
   "cell_type": "markdown",
   "metadata": {},
   "source": [
    "# Cosmology"
   ]
  },
  {
   "cell_type": "code",
   "execution_count": 2,
   "metadata": {},
   "outputs": [],
   "source": [
    "\n",
    "sim = get('http://www.tng-project.org/api/TNG100-1-Dark')\n",
    "snapshot = get('http://www.tng-project.org/api/TNG100-1-Dark/snapshots/z=0.0/')\n",
    "\n",
    "\n",
    "z = snapshot['redshift']\n",
    "Omega_0 = sim['omega_0']\n",
    "omega_B = sim['omega_B']\n",
    "h = sim['hubble']\n",
    "\n",
    "dm_mass = sim['mass_dm']\n",
    "\n",
    "\n",
    "cosmo = astropy.cosmology.FlatLambdaCDM(H0=h*100, Om0=Omega_0, Ob0=omega_B) #also astropy.cosmology.Planck15 but its a bit different\n",
    "#mean_density = cosmo.critical_density(z).to('Msun/Mpc^3').value\n",
    "mean_density = cosmo.critical_density(z)"
   ]
  },
  {
   "cell_type": "markdown",
   "metadata": {
    "notebookRunGroups": {
     "groupValue": "2"
    }
   },
   "source": [
    "# Counting haloes for a list of conditions"
   ]
  },
  {
   "cell_type": "code",
   "execution_count": 19,
   "metadata": {},
   "outputs": [
    {
     "name": "stdout",
     "output_type": "stream",
     "text": [
      "16544 halos with search criteria \n",
      " \t ?mass__gt=7.039999999999999&mass__lt=70400.0&primary_flag__gt=0.9&len__gr=150\n"
     ]
    }
   ],
   "source": [
    "# first convert log solar masses into group catalog units\n",
    "mass_min = 10**11 / 1e10 * 0.704\n",
    "mass_max = 10**15 / 1e10 * 0.704\n",
    "\n",
    "# form the search_query string by hand for once\n",
    "search_query = \"?mass__gt=\" + str(mass_min) + \"&mass__lt=\" + str(mass_max) +'&primary_flag__gt=0.9'+'&len__gr=150'\n",
    "\n",
    "url = 'http://www.tng-project.org/api/TNG100-1-Dark/snapshots/z=0.0/'+\"subhalos/\" + search_query\n",
    "subhalos_all = get(url, {'limit':20000})\n",
    "print(f\"{subhalos_all['count']} halos with search criteria \\n \\t {search_query}\")\n",
    "\n",
    "\n",
    "\n",
    "#get random 10 halos\n",
    "np.random.seed(0)\n",
    "\n",
    "random_idx = np.random.choice(subhalos_all['count'], 3, replace=False)\n",
    "random_idx = list(random_idx) + [1] #4 minites to download snap 24681, 1.27 gb, DM coords + density\n",
    "\n",
    "#select 10 indices from 0 to count uniformly\n",
    "\n",
    "#random_idx = np.random.choice(subhalos_all['count'], 10, replace=False)\n",
    "\n",
    "subhalos = [subhalos_all['results'][i] for i in random_idx]\n",
    "\n",
    "subhalos = {sh['id']:sh['url'] for sh in subhalos}\n"
   ]
  },
  {
   "cell_type": "code",
   "execution_count": 33,
   "metadata": {},
   "outputs": [
    {
     "data": {
      "text/plain": [
       "16544"
      ]
     },
     "execution_count": 33,
     "metadata": {},
     "output_type": "execute_result"
    }
   ],
   "source": [
    "len(subhalos_all['results'])"
   ]
  },
  {
   "cell_type": "code",
   "execution_count": 21,
   "metadata": {},
   "outputs": [
    {
     "data": {
      "text/plain": [
       "{574424: 'http://www.tng-project.org/api/TNG100-1-Dark/snapshots/99/subhalos/574424/',\n",
       " 818916: 'http://www.tng-project.org/api/TNG100-1-Dark/snapshots/99/subhalos/818916/',\n",
       " 912055: 'http://www.tng-project.org/api/TNG100-1-Dark/snapshots/99/subhalos/912055/',\n",
       " 24681: 'http://www.tng-project.org/api/TNG100-1-Dark/snapshots/99/subhalos/24681/'}"
      ]
     },
     "execution_count": 21,
     "metadata": {},
     "output_type": "execute_result"
    }
   ],
   "source": [
    "subhalos"
   ]
  },
  {
   "cell_type": "markdown",
   "metadata": {},
   "source": [
    "---"
   ]
  },
  {
   "cell_type": "code",
   "execution_count": 24,
   "metadata": {},
   "outputs": [],
   "source": [
    "id = 24681\n",
    "url = subhalos[id]\n",
    "sub_prog = get(url)\n",
    "\n",
    "#cutout_request = {'dm':'Coordinates,SubfindDMDensity'}\n",
    "cutout_request = {'dm':'Coordinates'}\n",
    "cutout = get(url+\"cutout.hdf5\", cutout_request)\n"
   ]
  },
  {
   "cell_type": "code",
   "execution_count": 25,
   "metadata": {},
   "outputs": [
    {
     "data": {
      "text/plain": [
       "'cutout_24681.hdf5'"
      ]
     },
     "execution_count": 25,
     "metadata": {},
     "output_type": "execute_result"
    }
   ],
   "source": [
    "cutout"
   ]
  },
  {
   "cell_type": "code",
   "execution_count": null,
   "metadata": {},
   "outputs": [],
   "source": [
    "#def get_dm(id):\n",
    "if True:\n",
    "    id = 24681\n",
    "    url = subhalos[id]\n",
    "    sub_prog = get(url)\n",
    "\n",
    "    cutout_request = {'dm':'Coordinates,Potential'}\n",
    "    cutout = get(url+\"cutout.hdf5\", cutout_request)\n",
    "\n",
    "\n",
    "\n",
    "    with h5py.File(cutout,'r') as f:\n",
    "        #file attributes: https://www.tng-project.org/data/docs/specifications/\n",
    "\n",
    "        #center coord\n",
    "        center = np.array([sub_prog['pos_x'], sub_prog['pos_y'], sub_prog['pos_z']])\n",
    "\n",
    "\n",
    "        x = f['PartType1']['Coordinates'][:,0]\n",
    "        y = f['PartType1']['Coordinates'][:,1]\n",
    "        z = f['PartType1']['Coordinates'][:,2]\n",
    "\n",
    "\n",
    "    sublink_tree = sub_prog['trees']['sublink']\n",
    "\n",
    "\n",
    "    with h5py.File(sublink_tree,'r') as f:\n",
    "        pass\n",
    "\n",
    "        "
   ]
  },
  {
   "cell_type": "code",
   "execution_count": 28,
   "metadata": {},
   "outputs": [],
   "source": [
    "f = h5py.File(cutout,'r')"
   ]
  },
  {
   "cell_type": "code",
   "execution_count": 29,
   "metadata": {},
   "outputs": [],
   "source": [
    "        x = f['PartType1']['Coordinates'][:,0]\n",
    "        y = f['PartType1']['Coordinates'][:,1]\n",
    "        z = f['PartType1']['Coordinates'][:,2]\n"
   ]
  },
  {
   "cell_type": "code",
   "execution_count": 75,
   "metadata": {},
   "outputs": [
    {
     "data": {
      "text/plain": [
       "{'snap': 99,\n",
       " 'id': 818916,\n",
       " 'cm_x': 10618.5,\n",
       " 'cm_y': 28002.0,\n",
       " 'cm_z': 61688.2,\n",
       " 'pos_x': 10616.9,\n",
       " 'pos_y': 27999.6,\n",
       " 'pos_z': 61701.3,\n",
       " 'halfmassrad': 44.3249,\n",
       " 'len': 37524,\n",
       " 'mass': 22.5132,\n",
       " 'massinhalfrad': 0.0,\n",
       " 'massinmaxrad': 5.25633,\n",
       " 'massinrad': 0.0,\n",
       " 'spin_x': -1134.69,\n",
       " 'spin_y': -125.066,\n",
       " 'spin_z': -210.077,\n",
       " 'vel_x': 41.3855,\n",
       " 'vel_y': 179.707,\n",
       " 'vel_z': -129.54,\n",
       " 'veldisp': 62.8111,\n",
       " 'vmax': 111.017,\n",
       " 'vmaxrad': 18.3489,\n",
       " 'prog_snap': 98,\n",
       " 'prog_sfid': 817639,\n",
       " 'desc_snap': -1,\n",
       " 'desc_sfid': -1,\n",
       " 'fp_match_sfid': 588196,\n",
       " 'parent': 0,\n",
       " 'grnr': 5172,\n",
       " 'primary_flag': 1,\n",
       " 'mass_log_msun': 11.521592037190764,\n",
       " 'related': {'sublink_progenitor': 'http://www.tng-project.org/api/TNG100-1-Dark/snapshots/98/subhalos/817639/',\n",
       "  'sublink_descendant': None,\n",
       "  'parent_halo': 'http://www.tng-project.org/api/TNG100-1-Dark/snapshots/99/halos/5172/'},\n",
       " 'cutouts': {'subhalo': 'http://www.tng-project.org/api/TNG100-1-Dark/snapshots/99/subhalos/818916/cutout.hdf5',\n",
       "  'parent_halo': 'http://www.tng-project.org/api/TNG100-1-Dark/snapshots/99/halos/5172/cutout.hdf5'},\n",
       " 'trees': {'sublink': 'http://www.tng-project.org/api/TNG100-1-Dark/snapshots/99/subhalos/818916/sublink/full.hdf5',\n",
       "  'sublink_mpb': 'http://www.tng-project.org/api/TNG100-1-Dark/snapshots/99/subhalos/818916/sublink/mpb.hdf5',\n",
       "  'sublink_mdb': 'http://www.tng-project.org/api/TNG100-1-Dark/snapshots/99/subhalos/818916/sublink/mdb.hdf5',\n",
       "  'sublink_simple': 'http://www.tng-project.org/api/TNG100-1-Dark/snapshots/99/subhalos/818916/sublink/simple.json',\n",
       "  'lhalotree': 'http://www.tng-project.org/api/TNG100-1-Dark/snapshots/99/subhalos/818916/lhalotree/full.hdf5',\n",
       "  'lhalotree_mpb': 'http://www.tng-project.org/api/TNG100-1-Dark/snapshots/99/subhalos/818916/lhalotree/mpb.hdf5'},\n",
       " 'vis': {'mergertree_sublink': 'http://www.tng-project.org/api/TNG100-1-Dark/snapshots/99/subhalos/818916/sublink/tree.png',\n",
       "  'halo_dm_dens': 'http://www.tng-project.org/api/TNG100-1-Dark/snapshots/99/subhalos/818916/vis.png?partType=dm'},\n",
       " 'meta': {'url': 'http://www.tng-project.org/api/TNG100-1-Dark/snapshots/99/subhalos/818916/',\n",
       "  'snapshot': 'http://www.tng-project.org/api/TNG100-1-Dark/snapshots/99/',\n",
       "  'simulation': 'http://www.tng-project.org/api/TNG100-1-Dark/',\n",
       "  'info': 'http://www.tng-project.org/api/TNG100-1-Dark/snapshots/99/subhalos/818916/info.json'}}"
      ]
     },
     "execution_count": 75,
     "metadata": {},
     "output_type": "execute_result"
    }
   ],
   "source": [
    "sub_prog"
   ]
  },
  {
   "cell_type": "code",
   "execution_count": 59,
   "metadata": {},
   "outputs": [],
   "source": [
    "sublink = h5py.File('sublink_818916.hdf5','r')"
   ]
  },
  {
   "cell_type": "code",
   "execution_count": 61,
   "metadata": {},
   "outputs": [
    {
     "data": {
      "text/plain": [
       "<KeysViewHDF5 ['DescendantID', 'FirstProgenitorID', 'FirstSubhaloInFOFGroupID', 'GroupCM', 'GroupFirstSub', 'GroupLen', 'GroupLenType', 'GroupMass', 'GroupMassType', 'GroupNsubs', 'GroupPos', 'GroupVel', 'Group_M_Crit200', 'Group_M_Crit500', 'Group_M_Mean200', 'Group_M_TopHat200', 'Group_R_Crit200', 'Group_R_Crit500', 'Group_R_Mean200', 'Group_R_TopHat200', 'LastProgenitorID', 'MainLeafProgenitorID', 'Mass', 'MassHistory', 'NextProgenitorID', 'NextSubhaloInFOFGroupID', 'NumParticles', 'RootDescendantID', 'SnapNum', 'SubfindID', 'SubhaloCM', 'SubhaloGrNr', 'SubhaloHalfmassRad', 'SubhaloHalfmassRadType', 'SubhaloID', 'SubhaloIDMostbound', 'SubhaloIDRaw', 'SubhaloLen', 'SubhaloLenType', 'SubhaloMass', 'SubhaloMassInHalfRad', 'SubhaloMassInHalfRadType', 'SubhaloMassInMaxRad', 'SubhaloMassInMaxRadType', 'SubhaloMassInRad', 'SubhaloMassInRadType', 'SubhaloMassType', 'SubhaloParent', 'SubhaloPos', 'SubhaloSpin', 'SubhaloVel', 'SubhaloVelDisp', 'SubhaloVmax', 'SubhaloVmaxRad', 'TreeID']>"
      ]
     },
     "execution_count": 61,
     "metadata": {},
     "output_type": "execute_result"
    }
   ],
   "source": [
    "sublink.keys()"
   ]
  },
  {
   "cell_type": "code",
   "execution_count": 74,
   "metadata": {},
   "outputs": [
    {
     "data": {
      "text/plain": [
       "array([[10618.455 , 28001.982 , 61688.156 ],\n",
       "       [10614.1455, 27984.24  , 61702.07  ],\n",
       "       [10607.663 , 27957.469 , 61722.08  ],\n",
       "       ...,\n",
       "       [ 9019.456 , 25209.607 , 62200.285 ],\n",
       "       [ 8982.454 , 25166.148 , 62176.49  ],\n",
       "       [ 8944.489 , 25127.344 , 62164.785 ]], dtype=float32)"
      ]
     },
     "execution_count": 74,
     "metadata": {},
     "output_type": "execute_result"
    }
   ],
   "source": [
    "sublink['SubhaloCM'][:]"
   ]
  },
  {
   "cell_type": "code",
   "execution_count": 79,
   "metadata": {},
   "outputs": [
    {
     "data": {
      "text/plain": [
       "0"
      ]
     },
     "execution_count": 79,
     "metadata": {},
     "output_type": "execute_result"
    }
   ],
   "source": [
    "(sublink['SubhaloCM'][:][:,0]==10618.5).sum()"
   ]
  },
  {
   "cell_type": "code",
   "execution_count": 80,
   "metadata": {},
   "outputs": [
    {
     "data": {
      "text/plain": [
       "array([ 818916,  817639,  814806, ..., 3205551, 3973972, 4174349],\n",
       "      dtype=int32)"
      ]
     },
     "execution_count": 80,
     "metadata": {},
     "output_type": "execute_result"
    }
   ],
   "source": [
    "sublink['SubfindID'][:]"
   ]
  },
  {
   "cell_type": "code",
   "execution_count": 71,
   "metadata": {},
   "outputs": [
    {
     "data": {
      "text/plain": [
       "[<matplotlib.lines.Line2D at 0x7fb079e42310>]"
      ]
     },
     "execution_count": 71,
     "metadata": {},
     "output_type": "execute_result"
    },
    {
     "data": {
      "image/png": "[encoded data removed]",
      "text/plain": [
       "<Figure size 640x480 with 1 Axes>"
      ]
     },
     "metadata": {},
     "output_type": "display_data"
    }
   ],
   "source": [
    "m = sublink['SubhaloMass'][:]\n",
    "s = sublink['SnapNum'][:]\n",
    "\n",
    "plt.semilogy(s,m)"
   ]
  },
  {
   "cell_type": "code",
   "execution_count": 67,
   "metadata": {},
   "outputs": [
    {
     "data": {
      "text/plain": [
       "1114"
      ]
     },
     "execution_count": 67,
     "metadata": {},
     "output_type": "execute_result"
    }
   ],
   "source": [
    "len(m)"
   ]
  }
 ],
 "metadata": {
  "kernelspec": {
   "display_name": "venv_hea",
   "language": "python",
   "name": "python3"
  },
  "language_info": {
   "codemirror_mode": {
    "name": "ipython",
    "version": 3
   },
   "file_extension": ".py",
   "mimetype": "text/x-python",
   "name": "python",
   "nbconvert_exporter": "python",
   "pygments_lexer": "ipython3",
   "version": "3.8.19"
  }
 },
 "nbformat": 4,
 "nbformat_minor": 2
}
